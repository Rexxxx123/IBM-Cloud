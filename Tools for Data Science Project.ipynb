{
    "cells": [
        {
            "cell_type": "markdown",
            "metadata": {
                "collapsed": true
            },
            "source": "# My Jupyter Notebook on IBM Watson Studio"
        },
        {
            "cell_type": "markdown",
            "metadata": {},
            "source": "**Junjie Xu**\n\nData Analyst"
        },
        {
            "cell_type": "markdown",
            "metadata": {},
            "source": "*I am interested in data science because I want learn ML and AI.*"
        },
        {
            "cell_type": "markdown",
            "metadata": {},
            "source": "### \"CommaCode\" function takes a list value as an argument and returns a string with all the items separated by a comma and a space, with and inserted before the last item."
        },
        {
            "cell_type": "code",
            "execution_count": 4,
            "metadata": {},
            "outputs": [
                {
                    "name": "stdout",
                    "output_type": "stream",
                    "text": "apples, bananas, tofu and cats\n"
                }
            ],
            "source": "def CommaCode(spam):\n    if len(spam) > 2:\n        for i in range(len(spam)-2):\n            print(spam[i] + ', ', end='')\n        else:\n            print(spam[-2] + ' and ' + spam[-1])\n    elif len(spam) == 2:\n        print(spam[0] + ' and ' + spam[1], end='')\n    else:\n        print(spam[0])\n\nspam = ['apples', 'bananas', 'tofu', 'cats']\n\nCommaCode(spam)"
        },
        {
            "cell_type": "markdown",
            "metadata": {},
            "source": "1. Python\n2. R\n3. SQL\n4. SAS\n5. Matlab\n6. SPSS\n\n> I have a lot of hands-on experience with these Programming languages.\n\n[IBM - United States](https://www.ibm.com/us-en/)"
        }
    ],
    "metadata": {
        "kernelspec": {
            "display_name": "Python 3.6",
            "language": "python",
            "name": "python3"
        },
        "language_info": {
            "codemirror_mode": {
                "name": "ipython",
                "version": 3
            },
            "file_extension": ".py",
            "mimetype": "text/x-python",
            "name": "python",
            "nbconvert_exporter": "python",
            "pygments_lexer": "ipython3",
            "version": "3.6.9"
        }
    },
    "nbformat": 4,
    "nbformat_minor": 1
}